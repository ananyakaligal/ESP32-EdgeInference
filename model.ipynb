{
 "cells": [
  {
   "cell_type": "code",
   "execution_count": 1,
   "metadata": {},
   "outputs": [],
   "source": [
    "import pandas as pd\n",
    "\n",
    "# Load your dataset\n",
    "df = pd.read_csv('E:\\IOT-Project\\cleaned_Phishing.csv')  # Adjust the path as needed"
   ]
  },
  {
   "cell_type": "code",
   "execution_count": 2,
   "metadata": {},
   "outputs": [],
   "source": [
    "# Assuming 'Result' is your target column\n",
    "X = df.drop(columns=['Result'])  # Features\n",
    "y = df['Result']  # Target variable"
   ]
  },
  {
   "cell_type": "code",
   "execution_count": 3,
   "metadata": {},
   "outputs": [],
   "source": [
    "from sklearn.model_selection import train_test_split\n",
    "\n",
    "# Split the data\n",
    "X_train, X_test, y_train, y_test = train_test_split(X, y, test_size=0.2, random_state=42)"
   ]
  },
  {
   "cell_type": "code",
   "execution_count": 10,
   "metadata": {},
   "outputs": [
    {
     "name": "stdout",
     "output_type": "stream",
     "text": [
      "Shape of X_train and X_test: (8844, 36) (2211, 36)\n",
      "Shape of y_train and y_test: (8844,) (2211,)\n"
     ]
    }
   ],
   "source": [
    "print('Shape of X_train and X_test:', X_train.shape, X_test.shape)\n",
    "print('Shape of y_train and y_test:', y_train.shape, y_test.shape)"
   ]
  },
  {
   "cell_type": "code",
   "execution_count": 4,
   "metadata": {},
   "outputs": [],
   "source": [
    "from sklearn.preprocessing import StandardScaler\n",
    "\n",
    "# Initialize the scaler\n",
    "scaler = StandardScaler()\n",
    "\n",
    "# Fit and transform the training data, transform the test data\n",
    "X_train_scaled = scaler.fit_transform(X_train)\n",
    "X_test_scaled = scaler.transform(X_test)"
   ]
  },
  {
   "cell_type": "code",
   "execution_count": 5,
   "metadata": {},
   "outputs": [
    {
     "name": "stdout",
     "output_type": "stream",
     "text": [
      "WARNING:tensorflow:From C:\\Users\\anany\\AppData\\Local\\Programs\\Python\\Python311\\Lib\\site-packages\\keras\\src\\losses.py:2976: The name tf.losses.sparse_softmax_cross_entropy is deprecated. Please use tf.compat.v1.losses.sparse_softmax_cross_entropy instead.\n",
      "\n",
      "WARNING:tensorflow:From C:\\Users\\anany\\AppData\\Local\\Programs\\Python\\Python311\\Lib\\site-packages\\keras\\src\\backend.py:1398: The name tf.executing_eagerly_outside_functions is deprecated. Please use tf.compat.v1.executing_eagerly_outside_functions instead.\n",
      "\n",
      "WARNING:tensorflow:From C:\\Users\\anany\\AppData\\Local\\Programs\\Python\\Python311\\Lib\\site-packages\\keras\\src\\optimizers\\__init__.py:309: The name tf.train.Optimizer is deprecated. Please use tf.compat.v1.train.Optimizer instead.\n",
      "\n"
     ]
    }
   ],
   "source": [
    "import tensorflow as tf\n",
    "from tensorflow import keras\n",
    "from tensorflow.keras import layers\n",
    "\n",
    "# Build the model\n",
    "model = keras.Sequential([\n",
    "    layers.Input(shape=(X_train_scaled.shape[1],)),  # Input layer\n",
    "    layers.Dense(64, activation='relu'),  # Hidden layer\n",
    "    layers.Dense(32, activation='relu'),  # Hidden layer\n",
    "    layers.Dense(1, activation='sigmoid')  # Output layer (for binary classification)\n",
    "])\n",
    "\n",
    "# Compile the model\n",
    "model.compile(optimizer='adam',\n",
    "              loss='binary_crossentropy',  # Use 'sparse_categorical_crossentropy' for multi-class\n",
    "              metrics=['accuracy'])"
   ]
  },
  {
   "cell_type": "code",
   "execution_count": 6,
   "metadata": {},
   "outputs": [],
   "source": [
    "from keras.callbacks import EarlyStopping"
   ]
  },
  {
   "cell_type": "code",
   "execution_count": 7,
   "metadata": {},
   "outputs": [],
   "source": [
    "# Define the EarlyStopping callback\n",
    "early_stopping = EarlyStopping(\n",
    "    monitor='val_loss',      # Monitor validation loss\n",
    "    patience=5,              # Number of epochs with no improvement after which training will be stopped\n",
    "    restore_best_weights=True # Restore model weights from the epoch with the best value of the monitored quantity\n",
    ")"
   ]
  },
  {
   "cell_type": "code",
   "execution_count": 8,
   "metadata": {},
   "outputs": [
    {
     "name": "stdout",
     "output_type": "stream",
     "text": [
      "Epoch 1/30\n",
      "WARNING:tensorflow:From C:\\Users\\anany\\AppData\\Local\\Programs\\Python\\Python311\\Lib\\site-packages\\keras\\src\\utils\\tf_utils.py:492: The name tf.ragged.RaggedTensorValue is deprecated. Please use tf.compat.v1.ragged.RaggedTensorValue instead.\n",
      "\n",
      "WARNING:tensorflow:From C:\\Users\\anany\\AppData\\Local\\Programs\\Python\\Python311\\Lib\\site-packages\\keras\\src\\engine\\base_layer_utils.py:384: The name tf.executing_eagerly_outside_functions is deprecated. Please use tf.compat.v1.executing_eagerly_outside_functions instead.\n",
      "\n",
      "222/222 [==============================] - 2s 2ms/step - loss: 0.2670 - accuracy: 0.8930 - val_loss: 0.1485 - val_accuracy: 0.9423\n",
      "Epoch 2/30\n",
      "222/222 [==============================] - 0s 1ms/step - loss: 0.1363 - accuracy: 0.9471 - val_loss: 0.1332 - val_accuracy: 0.9435\n",
      "Epoch 3/30\n",
      "222/222 [==============================] - 0s 1ms/step - loss: 0.1156 - accuracy: 0.9528 - val_loss: 0.1144 - val_accuracy: 0.9486\n",
      "Epoch 4/30\n",
      "222/222 [==============================] - 0s 1ms/step - loss: 0.1014 - accuracy: 0.9566 - val_loss: 0.1160 - val_accuracy: 0.9474\n",
      "Epoch 5/30\n",
      "222/222 [==============================] - 0s 1ms/step - loss: 0.0919 - accuracy: 0.9610 - val_loss: 0.1044 - val_accuracy: 0.9559\n",
      "Epoch 6/30\n",
      "222/222 [==============================] - 0s 1ms/step - loss: 0.0838 - accuracy: 0.9635 - val_loss: 0.0999 - val_accuracy: 0.9542\n",
      "Epoch 7/30\n",
      "222/222 [==============================] - 0s 1ms/step - loss: 0.0788 - accuracy: 0.9673 - val_loss: 0.0991 - val_accuracy: 0.9553\n",
      "Epoch 8/30\n",
      "222/222 [==============================] - 0s 1ms/step - loss: 0.0714 - accuracy: 0.9710 - val_loss: 0.0944 - val_accuracy: 0.9587\n",
      "Epoch 9/30\n",
      "222/222 [==============================] - 0s 1ms/step - loss: 0.0661 - accuracy: 0.9753 - val_loss: 0.1006 - val_accuracy: 0.9536\n",
      "Epoch 10/30\n",
      "222/222 [==============================] - 0s 1ms/step - loss: 0.0622 - accuracy: 0.9755 - val_loss: 0.0890 - val_accuracy: 0.9638\n",
      "Epoch 11/30\n",
      "222/222 [==============================] - 0s 1ms/step - loss: 0.0589 - accuracy: 0.9764 - val_loss: 0.0942 - val_accuracy: 0.9627\n",
      "Epoch 12/30\n",
      "222/222 [==============================] - 0s 1ms/step - loss: 0.0564 - accuracy: 0.9784 - val_loss: 0.0903 - val_accuracy: 0.9650\n",
      "Epoch 13/30\n",
      "222/222 [==============================] - 0s 1ms/step - loss: 0.0535 - accuracy: 0.9792 - val_loss: 0.0941 - val_accuracy: 0.9599\n",
      "Epoch 14/30\n",
      "222/222 [==============================] - 0s 1ms/step - loss: 0.0500 - accuracy: 0.9805 - val_loss: 0.0983 - val_accuracy: 0.9582\n",
      "Epoch 15/30\n",
      "222/222 [==============================] - 0s 1ms/step - loss: 0.0486 - accuracy: 0.9804 - val_loss: 0.0952 - val_accuracy: 0.9587\n"
     ]
    }
   ],
   "source": [
    "# Train the model with EarlyStopping\n",
    "history = model.fit(\n",
    "    X_train_scaled, \n",
    "    y_train, \n",
    "    epochs=30, \n",
    "    batch_size=32, \n",
    "    validation_split=0.2, \n",
    "    callbacks=[early_stopping]  # Include the early stopping callback\n",
    ")\n"
   ]
  },
  {
   "cell_type": "code",
   "execution_count": 9,
   "metadata": {},
   "outputs": [
    {
     "name": "stdout",
     "output_type": "stream",
     "text": [
      "Model: \"sequential\"\n",
      "_________________________________________________________________\n",
      " Layer (type)                Output Shape              Param #   \n",
      "=================================================================\n",
      " dense (Dense)               (None, 64)                2368      \n",
      "                                                                 \n",
      " dense_1 (Dense)             (None, 32)                2080      \n",
      "                                                                 \n",
      " dense_2 (Dense)             (None, 1)                 33        \n",
      "                                                                 \n",
      "=================================================================\n",
      "Total params: 4481 (17.50 KB)\n",
      "Trainable params: 4481 (17.50 KB)\n",
      "Non-trainable params: 0 (0.00 Byte)\n",
      "_________________________________________________________________\n",
      "None\n"
     ]
    }
   ],
   "source": [
    "print(model.summary())"
   ]
  },
  {
   "cell_type": "code",
   "execution_count": 11,
   "metadata": {},
   "outputs": [
    {
     "name": "stdout",
     "output_type": "stream",
     "text": [
      "70/70 [==============================] - 0s 935us/step - loss: 0.0955 - accuracy: 0.9661\n",
      "Test Loss: 0.0955, Test Accuracy: 0.9661\n"
     ]
    }
   ],
   "source": [
    "# Evaluate the model\n",
    "loss, accuracy = model.evaluate(X_test_scaled, y_test)\n",
    "print(f'Test Loss: {loss:.4f}, Test Accuracy: {accuracy:.4f}')"
   ]
  },
  {
   "cell_type": "code",
   "execution_count": 14,
   "metadata": {},
   "outputs": [],
   "source": [
    "import numpy as np\n",
    "from sklearn.metrics import accuracy_score, confusion_matrix, classification_report\n",
    "import matplotlib.pyplot as plt\n",
    "import seaborn as sns\n"
   ]
  },
  {
   "cell_type": "code",
   "execution_count": 15,
   "metadata": {},
   "outputs": [
    {
     "name": "stdout",
     "output_type": "stream",
     "text": [
      "Accuracy: 0.9661\n"
     ]
    }
   ],
   "source": [
    "# Assuming y_test contains your true labels\n",
    "accuracy = accuracy_score(y_test, predicted_classes)\n",
    "print(f'Accuracy: {accuracy:.4f}')\n"
   ]
  },
  {
   "cell_type": "code",
   "execution_count": 16,
   "metadata": {},
   "outputs": [
    {
     "data": {
      "image/png": "[encoded data removed]",
      "text/plain": [
       "<Figure size 800x600 with 2 Axes>"
      ]
     },
     "metadata": {},
     "output_type": "display_data"
    }
   ],
   "source": [
    "# Generate confusion matrix\n",
    "cm = confusion_matrix(y_test, predicted_classes)\n",
    "\n",
    "# Plot the confusion matrix\n",
    "plt.figure(figsize=(8, 6))\n",
    "sns.heatmap(cm, annot=True, fmt='d', cmap='Blues', \n",
    "            xticklabels=['Class 0', 'Class 1'], \n",
    "            yticklabels=['Class 0', 'Class 1'])\n",
    "plt.xlabel('Predicted Labels')\n",
    "plt.ylabel('True Labels')\n",
    "plt.title('Confusion Matrix')\n",
    "plt.show()\n"
   ]
  },
  {
   "cell_type": "code",
   "execution_count": 17,
   "metadata": {},
   "outputs": [
    {
     "name": "stdout",
     "output_type": "stream",
     "text": [
      "              precision    recall  f1-score   support\n",
      "\n",
      "     Class 0       0.96      0.97      0.96       956\n",
      "     Class 1       0.97      0.97      0.97      1255\n",
      "\n",
      "    accuracy                           0.97      2211\n",
      "   macro avg       0.96      0.97      0.97      2211\n",
      "weighted avg       0.97      0.97      0.97      2211\n",
      "\n"
     ]
    }
   ],
   "source": [
    "# Generate classification report\n",
    "report = classification_report(y_test, predicted_classes, target_names=['Class 0', 'Class 1'])\n",
    "print(report)"
   ]
  },
  {
   "cell_type": "code",
   "execution_count": 18,
   "metadata": {},
   "outputs": [
    {
     "name": "stdout",
     "output_type": "stream",
     "text": [
      "70/70 [==============================] - 0s 1ms/step\n",
      "Accuracy: 0.9661\n"
     ]
    }
   ],
   "source": [
    "# Make predictions\n",
    "predictions = model.predict(X_test_scaled)\n",
    "predicted_classes = (predictions > 0.5).astype(\"int32\")  # Convert probabilities to binary class labels\n",
    "\n",
    "# Calculate accuracy\n",
    "accuracy = accuracy_score(y_test, predicted_classes)\n",
    "print(f'Accuracy: {accuracy:.4f}')  # Print accuracy with 4 decimal places\n"
   ]
  },
  {
   "cell_type": "code",
   "execution_count": 19,
   "metadata": {},
   "outputs": [
    {
     "name": "stderr",
     "output_type": "stream",
     "text": [
      "C:\\Users\\anany\\AppData\\Local\\Programs\\Python\\Python311\\Lib\\site-packages\\keras\\src\\engine\\training.py:3103: UserWarning: You are saving your model as an HDF5 file via `model.save()`. This file format is considered legacy. We recommend using instead the native Keras format, e.g. `model.save('my_model.keras')`.\n",
      "  saving_api.save_model(\n"
     ]
    }
   ],
   "source": [
    "model.save('Website_ClassifyModel.h5')"
   ]
  },
  {
   "cell_type": "code",
   "execution_count": 24,
   "metadata": {},
   "outputs": [
    {
     "name": "stdout",
     "output_type": "stream",
     "text": [
      "<generator object representative_dataset at 0x000001F51FB3C9E0>\n"
     ]
    }
   ],
   "source": [
    "def representative_dataset():\n",
    "    for _ in range(100):\n",
    "      data =  X_test\n",
    "      yield [data.astype(np.float32)]\n",
    "        \n",
    "print(representative_dataset())"
   ]
  },
  {
   "cell_type": "code",
   "execution_count": 21,
   "metadata": {},
   "outputs": [
    {
     "name": "stdout",
     "output_type": "stream",
     "text": [
      "INFO:tensorflow:Assets written to: saved_phishing_model_keras_dir\\assets\n"
     ]
    },
    {
     "name": "stderr",
     "output_type": "stream",
     "text": [
      "INFO:tensorflow:Assets written to: saved_phishing_model_keras_dir\\assets\n"
     ]
    }
   ],
   "source": [
    "import tensorflow as tf\n",
    "\n",
    "# Save the trained Keras model\n",
    "tf.saved_model.save(model, \"saved_phishing_model_keras_dir\")"
   ]
  },
  {
   "cell_type": "code",
   "execution_count": 22,
   "metadata": {},
   "outputs": [],
   "source": [
    "import numpy as np\n",
    "\n",
    "def representative_dataset_gen():\n",
    "    for input_value in representative_data:  # Replace with your actual representative data\n",
    "        yield [input_value.astype(np.float32)]  # Ensure the correct data type\n"
   ]
  },
  {
   "cell_type": "code",
   "execution_count": 25,
   "metadata": {},
   "outputs": [
    {
     "name": "stdout",
     "output_type": "stream",
     "text": [
      "INFO:tensorflow:Assets written to: saved_website_seq_model_keras_dir\\assets\n"
     ]
    },
    {
     "name": "stderr",
     "output_type": "stream",
     "text": [
      "INFO:tensorflow:Assets written to: saved_website_seq_model_keras_dir\\assets\n"
     ]
    }
   ],
   "source": [
    "# Converting a tf.Keras model to a TensorFlow Lite model.\n",
    "# It is preferred to use TFLiteConverter from saved model and then\n",
    "# Also provide representative dataset to train the converted TFLite model\n",
    "# Avoid calling the TFLite converter directly from model\n",
    "#converter = tf.lite.TFLiteConverter.from_keras_model(model)\n",
    "\n",
    "tf.saved_model.save(model, \"saved_website_seq_model_keras_dir\")\n",
    "converter = tf.lite.TFLiteConverter.from_saved_model(\"saved_website_seq_model_keras_dir\")\n",
    "\n",
    "# Though its size is not much, optimizer is used here to check whether it works on ESP32\n",
    "# if this is chosen, tf.lite.Optimize.OPTIMIZE_FOR_SIZE, the TFLite does not work on ESP32\n",
    "# Observed that even with Optimize.DEFAULT the TFLite model does not work on ESP32\n",
    "converter.optimizations = [tf.lite.Optimize.DEFAULT]\n",
    "converter.representative_dataset = representative_dataset\n",
    "\n",
    "tflite_model = converter.convert()"
   ]
  },
  {
   "cell_type": "code",
   "execution_count": 26,
   "metadata": {},
   "outputs": [],
   "source": [
    "# Save the model in TFlite format whose size is just 5 KB\n",
    "# It brings down the size from 49.52 KB to 3.836 KB, 13 times reduction\n",
    "with open('WebsiteClassifyModel.tflite', 'wb') as f:\n",
    "  f.write(tflite_model)"
   ]
  },
  {
   "cell_type": "code",
   "execution_count": 27,
   "metadata": {},
   "outputs": [],
   "source": [
    "# Run the inference on TFLITE model on Python ... here itself first\n",
    "# Let us now first try to run this tflinte model on Python itself\n",
    "# Ref: https://www.tensorflow.org/lite/guide/inference\n",
    "# Load the TFLite model and allocate tensors.\n",
    "interpreter = tf.lite.Interpreter(model_path=\"WebsiteClassifyModel.tflite\")\n",
    "interpreter.allocate_tensors()"
   ]
  },
  {
   "cell_type": "code",
   "execution_count": 28,
   "metadata": {},
   "outputs": [
    {
     "name": "stdout",
     "output_type": "stream",
     "text": [
      "input_details:\n",
      " [{'name': 'serving_default_input_1:0', 'index': 0, 'shape': array([ 1, 36]), 'shape_signature': array([-1, 36]), 'dtype': <class 'numpy.float32'>, 'quantization': (0.0, 0), 'quantization_parameters': {'scales': array([], dtype=float32), 'zero_points': array([], dtype=int32), 'quantized_dimension': 0}, 'sparsity_parameters': {}}]\n",
      "output_details:\n",
      " [{'name': 'StatefulPartitionedCall:0', 'index': 12, 'shape': array([1, 1]), 'shape_signature': array([-1,  1]), 'dtype': <class 'numpy.float32'>, 'quantization': (0.0, 0), 'quantization_parameters': {'scales': array([], dtype=float32), 'zero_points': array([], dtype=int32), 'quantized_dimension': 0}, 'sparsity_parameters': {}}]\n"
     ]
    }
   ],
   "source": [
    "# Get input and output tensors.\n",
    "input_details = interpreter.get_input_details()\n",
    "output_details = interpreter.get_output_details()\n",
    "print('input_details:\\n', input_details)\n",
    "print('output_details:\\n', output_details)"
   ]
  },
  {
   "cell_type": "code",
   "execution_count": 35,
   "metadata": {},
   "outputs": [
    {
     "name": "stdout",
     "output_type": "stream",
     "text": [
      "TFLite model output for random input:\n",
      "[[0.99609375]]\n",
      "1/1 [==============================] - 0s 21ms/step\n",
      "Original Keras model output for random input:\n",
      "[[0.9996643]]\n",
      "Shape of input_data for input 1: (1, 36)\n",
      "TFLite model output for input 1:\n",
      "[[0.99609375]]\n",
      "1/1 [==============================] - 0s 16ms/step\n",
      "Original Keras model output for input 1:\n",
      "[[0.99968046]]\n",
      "Shape of input_data for input 2: (1, 36)\n",
      "TFLite model output for input 2:\n",
      "[[0.99609375]]\n",
      "1/1 [==============================] - 0s 19ms/step\n",
      "Original Keras model output for input 2:\n",
      "[[0.99985445]]\n"
     ]
    }
   ],
   "source": [
    "import numpy as np\n",
    "import tensorflow as tf\n",
    "\n",
    "# Load the TFLite model and allocate tensors\n",
    "interpreter = tf.lite.Interpreter(model_path=\"WebsiteClassifyModel.tflite\")\n",
    "interpreter.allocate_tensors()\n",
    "\n",
    "# Get input and output tensors\n",
    "input_details = interpreter.get_input_details()\n",
    "output_details = interpreter.get_output_details()\n",
    "\n",
    "# Test the model on random input data\n",
    "input_shape = input_details[0]['shape']\n",
    "input0_data = np.random.random_sample(input_shape)\n",
    "input0_data = np.array(input0_data, dtype=np.float32)\n",
    "\n",
    "# Set the input tensor to the random data\n",
    "interpreter.set_tensor(input_details[0]['index'], input0_data)\n",
    "\n",
    "# Invoke the model\n",
    "interpreter.invoke()\n",
    "\n",
    "# Get the output from the TFLite model\n",
    "output0_data = interpreter.get_tensor(output_details[0]['index'])\n",
    "print(\"TFLite model output for random input:\")\n",
    "print(output0_data)\n",
    "\n",
    "# Verify the output with the original Keras model\n",
    "output0_data_keras = model.predict(input0_data)\n",
    "print(\"Original Keras model output for random input:\")\n",
    "print(output0_data_keras)\n",
    "\n",
    "input1_data = [[0.0, 0.1, 0.2, 0.3, 0.0, 1.0, 0.0, 0.5, 0.7, 0.9, \n",
    "                 0.4, 0.8, 0.1, 0.6, 0.2, 0.3, 0.0, 1.0, 0.0, \n",
    "                 0.5, 0.7, 0.9, 0.4, 0.8, 0.1, 0.6, 0.2, \n",
    "                 0.3, 0.0, 1.0, 0.0, 0.5, 0.7, 0.9, 0.4,  # 35 features\n",
    "                 0.5]]  # Add one more feature to make it 36\n",
    "\n",
    "input2_data = [[1.0, 0.1, 0.2, 0.4, 0.3, 0.0, 0.2, 0.5, 0.8, 0.6, \n",
    "                 0.1, 0.3, 0.9, 0.0, 0.5, 0.8, 0.1, 0.0, \n",
    "                 0.3, 0.9, 0.6, 0.4, 0.7, 0.1, 0.3, 0.2, \n",
    "                 0.0, 1.0, 0.3, 0.4, 0.5, 0.6, 0.2, 0.1, \n",
    "                 0.0, 1.0]]  # Make sure this has 36 features\n",
    "\n",
    "# Function to test individual inputs\n",
    "def test_input(input_data, input_index):\n",
    "    input_data = np.array(input_data, dtype=np.float32)\n",
    "\n",
    "    # Print the shape of input_data for debugging\n",
    "    print(f\"Shape of input_data for input {input_index}: {input_data.shape}\")\n",
    "    \n",
    "    # Set the input tensor\n",
    "    interpreter.set_tensor(input_details[0]['index'], input_data)\n",
    "\n",
    "    # Invoke the model\n",
    "    interpreter.invoke()\n",
    "\n",
    "    # Get the output\n",
    "    output_data = interpreter.get_tensor(output_details[0]['index'])\n",
    "    print(f'TFLite model output for input {input_index}:')\n",
    "    print(output_data)\n",
    "\n",
    "    # Verify with the original Keras model\n",
    "    output_data_keras = model.predict(input_data)\n",
    "    print(f'Original Keras model output for input {input_index}:')\n",
    "    print(output_data_keras)\n",
    "\n",
    "# Test the specific inputs\n",
    "test_input(input1_data, 1)\n",
    "test_input(input2_data, 2)\n"
   ]
  },
  {
   "cell_type": "code",
   "execution_count": null,
   "metadata": {},
   "outputs": [],
   "source": []
  }
 ],
 "metadata": {
  "kernelspec": {
   "display_name": "Python 3",
   "language": "python",
   "name": "python3"
  },
  "language_info": {
   "codemirror_mode": {
    "name": "ipython",
    "version": 3
   },
   "file_extension": ".py",
   "mimetype": "text/x-python",
   "name": "python",
   "nbconvert_exporter": "python",
   "pygments_lexer": "ipython3",
   "version": "3.11.0"
  }
 },
 "nbformat": 4,
 "nbformat_minor": 2
}
